{
 "cells": [
  {
   "cell_type": "markdown",
   "id": "30b45487",
   "metadata": {},
   "source": [
    "# Reference"
   ]
  },
  {
   "cell_type": "code",
   "execution_count": null,
   "id": "bac44892",
   "metadata": {},
   "outputs": [],
   "source": [
    "import numpy as np\n",
    "import pandas as pd\n",
    "import seaborn as sns\n",
    "import matplotlib.pyplot as plt"
   ]
  },
  {
   "cell_type": "code",
   "execution_count": 2,
   "id": "517c313d",
   "metadata": {},
   "outputs": [],
   "source": [
    "# read data\n",
    "data = pd.read_csv('newborn.csv')\n",
    "# Check the data to make sure no nan exists\n",
    "# data.info()"
   ]
  },
  {
   "cell_type": "code",
   "execution_count": 3,
   "id": "7379b9b1",
   "metadata": {},
   "outputs": [],
   "source": [
    "from sklearn.metrics import mean_squared_error, mean_absolute_error\n",
    "from sklearn.model_selection import train_test_split, GridSearchCV, RepeatedKFold"
   ]
  },
  {
   "cell_type": "code",
   "execution_count": 4,
   "id": "b0b444f7",
   "metadata": {},
   "outputs": [],
   "source": [
    "y = data['bwt']\n",
    "X = data.loc[:, data.columns != 'bwt']\n",
    "\n",
    "features = X.columns.tolist()\n",
    "\n",
    "X_train, X_test, y_train, y_test = train_test_split(X, y, test_size=0.2, random_state=0)"
   ]
  },
  {
   "cell_type": "markdown",
   "id": "703ee3c6",
   "metadata": {},
   "source": [
    "## Base Model: Decision Tree"
   ]
  },
  {
   "cell_type": "code",
   "execution_count": 5,
   "id": "f14f653b",
   "metadata": {},
   "outputs": [],
   "source": [
    "from sklearn import tree\n",
    "from sklearn.tree import DecisionTreeRegressor"
   ]
  },
  {
   "cell_type": "code",
   "execution_count": 6,
   "id": "fbedc9ef",
   "metadata": {},
   "outputs": [
    {
     "name": "stdout",
     "output_type": "stream",
     "text": [
      "the best max_depth is 5\n"
     ]
    }
   ],
   "source": [
    "model = DecisionTreeRegressor()\n",
    "depth = range(1,10)\n",
    "grid = dict(max_depth = depth)\n",
    "cvFold = RepeatedKFold(n_splits=5, n_repeats=1, random_state=0)\n",
    "gridSearch = GridSearchCV(estimator=model, param_grid=grid, n_jobs=-1, \n",
    "                          cv=cvFold, scoring=\"neg_mean_absolute_error\")\n",
    "searchResults = gridSearch.fit(X_train, y_train)\n",
    "\n",
    "# the best model is\n",
    "regr_base = searchResults.best_estimator_\n",
    "best_max_depth = searchResults.best_params_['max_depth']\n",
    "print('the best max_depth is %d'%(best_max_depth))"
   ]
  },
  {
   "cell_type": "code",
   "execution_count": 7,
   "id": "6e3f9cc7",
   "metadata": {},
   "outputs": [
    {
     "name": "stdout",
     "output_type": "stream",
     "text": [
      "The root mean squared error in testing set is 298.50\n",
      "The mean absolute error in testing set is 237.78\n"
     ]
    }
   ],
   "source": [
    "# predict\n",
    "y_pred = regr_base.predict(X_test)\n",
    "rmse = np.sqrt(mean_squared_error(y_test, y_pred))\n",
    "mae = mean_absolute_error(y_test, y_pred)\n",
    "print('The root mean squared error in testing set is %.2f'%(rmse))\n",
    "print('The mean absolute error in testing set is %.2f'%(mae))"
   ]
  },
  {
   "cell_type": "code",
   "execution_count": 8,
   "id": "1f402374",
   "metadata": {},
   "outputs": [],
   "source": [
    "# visualization on whole datasets\n",
    "import graphviz\n",
    "from dtreeviz.trees import dtreeviz"
   ]
  },
  {
   "cell_type": "code",
   "execution_count": 9,
   "id": "88799739",
   "metadata": {},
   "outputs": [
    {
     "data": {
      "image/png": "[encoded data removed]",
      "text/plain": [
       "<Figure size 288x216 with 1 Axes>"
      ]
     },
     "metadata": {},
     "output_type": "display_data"
    }
   ],
   "source": [
    "# feature importance\n",
    "# Extracting the importances by sklearn \n",
    "importances = regr_base.feature_importances_\n",
    "\n",
    "# Creating a dataframe with the feature importance by sklearn\n",
    "feature_importance_dict = {}\n",
    "for col, val in sorted(zip(features, importances), key=lambda x:x[1], reverse=True):\n",
    "    feature_importance_dict[col] = val\n",
    "\n",
    "feature_importance_df = pd.DataFrame({'feature':feature_importance_dict.keys(),\n",
    "                                      'importance':feature_importance_dict.values()})\n",
    "sns.set_theme(style=\"whitegrid\")\n",
    "f, ax = plt.subplots(figsize=(4, 3))\n",
    "sns.set_color_codes(\"pastel\")\n",
    "sns.barplot(y='feature', x='importance', data=feature_importance_df, color=\"b\")\n",
    "plt.title('Important features to predict new born weights')\n",
    "plt.show()"
   ]
  },
  {
   "cell_type": "markdown",
   "id": "bf679ee2",
   "metadata": {},
   "source": [
    "## XGBoost Model"
   ]
  },
  {
   "cell_type": "code",
   "execution_count": 10,
   "id": "e8b23c3b",
   "metadata": {},
   "outputs": [],
   "source": [
    "import xgboost as xgb"
   ]
  },
  {
   "cell_type": "code",
   "execution_count": 11,
   "id": "0ca27c1c",
   "metadata": {},
   "outputs": [],
   "source": [
    "model = xgb.XGBRegressor()\n",
    "lr = np.arange(0.05, 0.3, 0.05)\n",
    "gamma = np.arange(0, 0.5, 0.1)\n",
    "max_depth = range(3, 10)\n",
    "# min_child_weight = range(3, 10)\n",
    "colsample = np.arange(0.3, 0.8, 0.1)\n",
    "n_estimators = [10, 20, 50]\n",
    "\n",
    "grid = dict(learning_rate = lr, gamma = gamma, max_depth = max_depth, \n",
    "            colsample_bytree = colsample, n_estimators = n_estimators)\n",
    "cvFold = RepeatedKFold(n_splits=5, n_repeats=5, random_state=0)\n",
    "gridSearch = GridSearchCV(estimator=model, param_grid=grid, n_jobs=-1, \n",
    "                          cv=cvFold, scoring=\"neg_mean_absolute_error\")\n",
    "searchResults = gridSearch.fit(X_train, y_train)\n",
    "\n",
    "# the best model is\n",
    "regr_xgboost = searchResults.best_estimator_\n",
    "# searchResults.best_params_"
   ]
  },
  {
   "cell_type": "code",
   "execution_count": 12,
   "id": "7e03f21a",
   "metadata": {},
   "outputs": [
    {
     "name": "stdout",
     "output_type": "stream",
     "text": [
      "The root mean squared error in testing set is 265.94\n",
      "The mean absolute error in testing set is 213.55\n"
     ]
    }
   ],
   "source": [
    "# predict\n",
    "y_pred = regr_xgboost.predict(X_test)\n",
    "rmse = np.sqrt(mean_squared_error(y_test, y_pred))\n",
    "mae = mean_absolute_error(y_test, y_pred)\n",
    "print('The root mean squared error in testing set is %.2f'%(rmse))\n",
    "print('The mean absolute error in testing set is %.2f'%(mae))"
   ]
  },
  {
   "cell_type": "code",
   "execution_count": 13,
   "id": "79d7882a",
   "metadata": {},
   "outputs": [
    {
     "data": {
      "image/png": "[encoded data removed]",
      "text/plain": [
       "<Figure size 288x216 with 1 Axes>"
      ]
     },
     "metadata": {},
     "output_type": "display_data"
    }
   ],
   "source": [
    "# feature importance\n",
    "# Extracting the importances by sklearn \n",
    "importances = regr_xgboost.feature_importances_\n",
    "\n",
    "# Creating a dataframe with the feature importance by sklearn\n",
    "feature_importance_dict = {}\n",
    "for col, val in sorted(zip(features, importances), key=lambda x:x[1], reverse=True):\n",
    "    feature_importance_dict[col] = val\n",
    "\n",
    "feature_importance_df = pd.DataFrame({'feature':feature_importance_dict.keys(),\n",
    "                                      'importance':feature_importance_dict.values()})\n",
    "sns.set_theme(style=\"whitegrid\")\n",
    "f, ax = plt.subplots(figsize=(4, 3))\n",
    "sns.set_color_codes(\"pastel\")\n",
    "sns.barplot(y='feature', x='importance', data=feature_importance_df, color=\"b\")\n",
    "plt.title('Important features to predict new born weights')\n",
    "plt.show()"
   ]
  },
  {
   "cell_type": "markdown",
   "id": "8f95607b",
   "metadata": {},
   "source": [
    "## Neural Network Model"
   ]
  },
  {
   "cell_type": "code",
   "execution_count": 14,
   "id": "ddd92424",
   "metadata": {},
   "outputs": [],
   "source": [
    "from sklearn.preprocessing import StandardScaler\n",
    "scaler = StandardScaler()\n",
    "scaler.fit(X_train)\n",
    "X_train = scaler.transform(X_train)\n",
    "X_test = scaler.transform(X_test)"
   ]
  },
  {
   "cell_type": "code",
   "execution_count": 15,
   "id": "98c55391",
   "metadata": {},
   "outputs": [],
   "source": [
    "from sklearn.neural_network import MLPRegressor"
   ]
  },
  {
   "cell_type": "code",
   "execution_count": 16,
   "id": "808fef95",
   "metadata": {},
   "outputs": [
    {
     "name": "stderr",
     "output_type": "stream",
     "text": [
      "C:\\Users\\XinXining\\anaconda3\\lib\\site-packages\\sklearn\\neural_network\\_multilayer_perceptron.py:614: ConvergenceWarning: Stochastic Optimizer: Maximum iterations (200) reached and the optimization hasn't converged yet.\n",
      "  warnings.warn(\n"
     ]
    }
   ],
   "source": [
    "model = MLPRegressor(max_iter=200)\n",
    "n_hidden_layer = range(1,5)\n",
    "n_neurons = [100, 200, 400]\n",
    "n_hidden_sizes = [(v,)*u for v in n_neurons for u in n_hidden_layer]\n",
    "# alpha = [0.0001, 0.001, 0.01]\n",
    "grid = dict(hidden_layer_sizes = n_hidden_sizes)\n",
    "cvFold = RepeatedKFold(n_splits=5, n_repeats=1, random_state=0)\n",
    "gridSearch = GridSearchCV(estimator=model, param_grid=grid, n_jobs=-1, \n",
    "                          cv=cvFold, scoring=\"neg_mean_absolute_error\")\n",
    "searchResults = gridSearch.fit(X_train, y_train)\n",
    "\n",
    "# the best model is\n",
    "regr_mlp = searchResults.best_estimator_\n",
    "# searchResults.best_params_"
   ]
  },
  {
   "cell_type": "code",
   "execution_count": 17,
   "id": "33fdc2a9",
   "metadata": {},
   "outputs": [
    {
     "name": "stdout",
     "output_type": "stream",
     "text": [
      "The root mean squared error in testing set is 270.13\n",
      "The mean absolute error in testing set is 213.30\n"
     ]
    }
   ],
   "source": [
    "# predict\n",
    "y_pred = regr_mlp.predict(X_test)\n",
    "rmse = np.sqrt(mean_squared_error(y_test, y_pred))\n",
    "mae = mean_absolute_error(y_test, y_pred)\n",
    "print('The root mean squared error in testing set is %.2f'%(rmse))\n",
    "print('The mean absolute error in testing set is %.2f'%(mae))"
   ]
  }
 ],
 "metadata": {
  "kernelspec": {
   "display_name": "Python 3",
   "language": "python",
   "name": "python3"
  },
  "language_info": {
   "codemirror_mode": {
    "name": "ipython",
    "version": 3
   },
   "file_extension": ".py",
   "mimetype": "text/x-python",
   "name": "python",
   "nbconvert_exporter": "python",
   "pygments_lexer": "ipython3",
   "version": "3.8.8"
  }
 },
 "nbformat": 4,
 "nbformat_minor": 5
}
